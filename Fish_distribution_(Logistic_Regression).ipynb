{
  "nbformat": 4,
  "nbformat_minor": 0,
  "metadata": {
    "colab": {
      "provenance": [],
      "authorship_tag": "ABX9TyPK30Cgm5Rxr0z9NcKoE9uF",
      "include_colab_link": true
    },
    "kernelspec": {
      "name": "python3",
      "display_name": "Python 3"
    },
    "language_info": {
      "name": "python"
    }
  },
  "cells": [
    {
      "cell_type": "markdown",
      "metadata": {
        "id": "view-in-github",
        "colab_type": "text"
      },
      "source": [
        "<a href=\"https://colab.research.google.com/github/zaeyonz/Fish_distribution/blob/main/Fish_distribution_(Logistic_Regression).ipynb\" target=\"_parent\"><img src=\"https://colab.research.google.com/assets/colab-badge.svg\" alt=\"Open In Colab\"/></a>"
      ]
    },
    {
      "cell_type": "markdown",
      "source": [
        "# ***Data 준비 (pandas)***\n",
        "\n",
        "*   read_csv() 함수로 CSV파일을 dataframe으로 변환"
      ],
      "metadata": {
        "id": "lgLQd2r2dADK"
      }
    },
    {
      "cell_type": "code",
      "execution_count": 1,
      "metadata": {
        "colab": {
          "base_uri": "https://localhost:8080/",
          "height": 206
        },
        "id": "nKVFzZnIc1MH",
        "outputId": "12f77a85-f940-4b4d-9bf4-8ddab21c3996"
      },
      "outputs": [
        {
          "output_type": "execute_result",
          "data": {
            "text/plain": [
              "  Species  Weight  Length  Diagonal   Height   Width\n",
              "0   Bream   242.0    25.4      30.0  11.5200  4.0200\n",
              "1   Bream   290.0    26.3      31.2  12.4800  4.3056\n",
              "2   Bream   340.0    26.5      31.1  12.3778  4.6961\n",
              "3   Bream   363.0    29.0      33.5  12.7300  4.4555\n",
              "4   Bream   430.0    29.0      34.0  12.4440  5.1340"
            ],
            "text/html": [
              "\n",
              "\n",
              "  <div id=\"df-91060904-73e9-4320-aeb1-cbff61cc0f23\">\n",
              "    <div class=\"colab-df-container\">\n",
              "      <div>\n",
              "<style scoped>\n",
              "    .dataframe tbody tr th:only-of-type {\n",
              "        vertical-align: middle;\n",
              "    }\n",
              "\n",
              "    .dataframe tbody tr th {\n",
              "        vertical-align: top;\n",
              "    }\n",
              "\n",
              "    .dataframe thead th {\n",
              "        text-align: right;\n",
              "    }\n",
              "</style>\n",
              "<table border=\"1\" class=\"dataframe\">\n",
              "  <thead>\n",
              "    <tr style=\"text-align: right;\">\n",
              "      <th></th>\n",
              "      <th>Species</th>\n",
              "      <th>Weight</th>\n",
              "      <th>Length</th>\n",
              "      <th>Diagonal</th>\n",
              "      <th>Height</th>\n",
              "      <th>Width</th>\n",
              "    </tr>\n",
              "  </thead>\n",
              "  <tbody>\n",
              "    <tr>\n",
              "      <th>0</th>\n",
              "      <td>Bream</td>\n",
              "      <td>242.0</td>\n",
              "      <td>25.4</td>\n",
              "      <td>30.0</td>\n",
              "      <td>11.5200</td>\n",
              "      <td>4.0200</td>\n",
              "    </tr>\n",
              "    <tr>\n",
              "      <th>1</th>\n",
              "      <td>Bream</td>\n",
              "      <td>290.0</td>\n",
              "      <td>26.3</td>\n",
              "      <td>31.2</td>\n",
              "      <td>12.4800</td>\n",
              "      <td>4.3056</td>\n",
              "    </tr>\n",
              "    <tr>\n",
              "      <th>2</th>\n",
              "      <td>Bream</td>\n",
              "      <td>340.0</td>\n",
              "      <td>26.5</td>\n",
              "      <td>31.1</td>\n",
              "      <td>12.3778</td>\n",
              "      <td>4.6961</td>\n",
              "    </tr>\n",
              "    <tr>\n",
              "      <th>3</th>\n",
              "      <td>Bream</td>\n",
              "      <td>363.0</td>\n",
              "      <td>29.0</td>\n",
              "      <td>33.5</td>\n",
              "      <td>12.7300</td>\n",
              "      <td>4.4555</td>\n",
              "    </tr>\n",
              "    <tr>\n",
              "      <th>4</th>\n",
              "      <td>Bream</td>\n",
              "      <td>430.0</td>\n",
              "      <td>29.0</td>\n",
              "      <td>34.0</td>\n",
              "      <td>12.4440</td>\n",
              "      <td>5.1340</td>\n",
              "    </tr>\n",
              "  </tbody>\n",
              "</table>\n",
              "</div>\n",
              "      <button class=\"colab-df-convert\" onclick=\"convertToInteractive('df-91060904-73e9-4320-aeb1-cbff61cc0f23')\"\n",
              "              title=\"Convert this dataframe to an interactive table.\"\n",
              "              style=\"display:none;\">\n",
              "\n",
              "  <svg xmlns=\"http://www.w3.org/2000/svg\" height=\"24px\"viewBox=\"0 0 24 24\"\n",
              "       width=\"24px\">\n",
              "    <path d=\"M0 0h24v24H0V0z\" fill=\"none\"/>\n",
              "    <path d=\"M18.56 5.44l.94 2.06.94-2.06 2.06-.94-2.06-.94-.94-2.06-.94 2.06-2.06.94zm-11 1L8.5 8.5l.94-2.06 2.06-.94-2.06-.94L8.5 2.5l-.94 2.06-2.06.94zm10 10l.94 2.06.94-2.06 2.06-.94-2.06-.94-.94-2.06-.94 2.06-2.06.94z\"/><path d=\"M17.41 7.96l-1.37-1.37c-.4-.4-.92-.59-1.43-.59-.52 0-1.04.2-1.43.59L10.3 9.45l-7.72 7.72c-.78.78-.78 2.05 0 2.83L4 21.41c.39.39.9.59 1.41.59.51 0 1.02-.2 1.41-.59l7.78-7.78 2.81-2.81c.8-.78.8-2.07 0-2.86zM5.41 20L4 18.59l7.72-7.72 1.47 1.35L5.41 20z\"/>\n",
              "  </svg>\n",
              "      </button>\n",
              "\n",
              "\n",
              "\n",
              "    <div id=\"df-caee6ab2-e1b3-4f9f-b855-cf62ecb25a84\">\n",
              "      <button class=\"colab-df-quickchart\" onclick=\"quickchart('df-caee6ab2-e1b3-4f9f-b855-cf62ecb25a84')\"\n",
              "              title=\"Suggest charts.\"\n",
              "              style=\"display:none;\">\n",
              "\n",
              "<svg xmlns=\"http://www.w3.org/2000/svg\" height=\"24px\"viewBox=\"0 0 24 24\"\n",
              "     width=\"24px\">\n",
              "    <g>\n",
              "        <path d=\"M19 3H5c-1.1 0-2 .9-2 2v14c0 1.1.9 2 2 2h14c1.1 0 2-.9 2-2V5c0-1.1-.9-2-2-2zM9 17H7v-7h2v7zm4 0h-2V7h2v10zm4 0h-2v-4h2v4z\"/>\n",
              "    </g>\n",
              "</svg>\n",
              "      </button>\n",
              "    </div>\n",
              "\n",
              "<style>\n",
              "  .colab-df-quickchart {\n",
              "    background-color: #E8F0FE;\n",
              "    border: none;\n",
              "    border-radius: 50%;\n",
              "    cursor: pointer;\n",
              "    display: none;\n",
              "    fill: #1967D2;\n",
              "    height: 32px;\n",
              "    padding: 0 0 0 0;\n",
              "    width: 32px;\n",
              "  }\n",
              "\n",
              "  .colab-df-quickchart:hover {\n",
              "    background-color: #E2EBFA;\n",
              "    box-shadow: 0px 1px 2px rgba(60, 64, 67, 0.3), 0px 1px 3px 1px rgba(60, 64, 67, 0.15);\n",
              "    fill: #174EA6;\n",
              "  }\n",
              "\n",
              "  [theme=dark] .colab-df-quickchart {\n",
              "    background-color: #3B4455;\n",
              "    fill: #D2E3FC;\n",
              "  }\n",
              "\n",
              "  [theme=dark] .colab-df-quickchart:hover {\n",
              "    background-color: #434B5C;\n",
              "    box-shadow: 0px 1px 3px 1px rgba(0, 0, 0, 0.15);\n",
              "    filter: drop-shadow(0px 1px 2px rgba(0, 0, 0, 0.3));\n",
              "    fill: #FFFFFF;\n",
              "  }\n",
              "</style>\n",
              "\n",
              "    <script>\n",
              "      async function quickchart(key) {\n",
              "        const containerElement = document.querySelector('#' + key);\n",
              "        const charts = await google.colab.kernel.invokeFunction(\n",
              "            'suggestCharts', [key], {});\n",
              "      }\n",
              "    </script>\n",
              "\n",
              "      <script>\n",
              "\n",
              "function displayQuickchartButton(domScope) {\n",
              "  let quickchartButtonEl =\n",
              "    domScope.querySelector('#df-caee6ab2-e1b3-4f9f-b855-cf62ecb25a84 button.colab-df-quickchart');\n",
              "  quickchartButtonEl.style.display =\n",
              "    google.colab.kernel.accessAllowed ? 'block' : 'none';\n",
              "}\n",
              "\n",
              "        displayQuickchartButton(document);\n",
              "      </script>\n",
              "      <style>\n",
              "    .colab-df-container {\n",
              "      display:flex;\n",
              "      flex-wrap:wrap;\n",
              "      gap: 12px;\n",
              "    }\n",
              "\n",
              "    .colab-df-convert {\n",
              "      background-color: #E8F0FE;\n",
              "      border: none;\n",
              "      border-radius: 50%;\n",
              "      cursor: pointer;\n",
              "      display: none;\n",
              "      fill: #1967D2;\n",
              "      height: 32px;\n",
              "      padding: 0 0 0 0;\n",
              "      width: 32px;\n",
              "    }\n",
              "\n",
              "    .colab-df-convert:hover {\n",
              "      background-color: #E2EBFA;\n",
              "      box-shadow: 0px 1px 2px rgba(60, 64, 67, 0.3), 0px 1px 3px 1px rgba(60, 64, 67, 0.15);\n",
              "      fill: #174EA6;\n",
              "    }\n",
              "\n",
              "    [theme=dark] .colab-df-convert {\n",
              "      background-color: #3B4455;\n",
              "      fill: #D2E3FC;\n",
              "    }\n",
              "\n",
              "    [theme=dark] .colab-df-convert:hover {\n",
              "      background-color: #434B5C;\n",
              "      box-shadow: 0px 1px 3px 1px rgba(0, 0, 0, 0.15);\n",
              "      filter: drop-shadow(0px 1px 2px rgba(0, 0, 0, 0.3));\n",
              "      fill: #FFFFFF;\n",
              "    }\n",
              "  </style>\n",
              "\n",
              "      <script>\n",
              "        const buttonEl =\n",
              "          document.querySelector('#df-91060904-73e9-4320-aeb1-cbff61cc0f23 button.colab-df-convert');\n",
              "        buttonEl.style.display =\n",
              "          google.colab.kernel.accessAllowed ? 'block' : 'none';\n",
              "\n",
              "        async function convertToInteractive(key) {\n",
              "          const element = document.querySelector('#df-91060904-73e9-4320-aeb1-cbff61cc0f23');\n",
              "          const dataTable =\n",
              "            await google.colab.kernel.invokeFunction('convertToInteractive',\n",
              "                                                     [key], {});\n",
              "          if (!dataTable) return;\n",
              "\n",
              "          const docLinkHtml = 'Like what you see? Visit the ' +\n",
              "            '<a target=\"_blank\" href=https://colab.research.google.com/notebooks/data_table.ipynb>data table notebook</a>'\n",
              "            + ' to learn more about interactive tables.';\n",
              "          element.innerHTML = '';\n",
              "          dataTable['output_type'] = 'display_data';\n",
              "          await google.colab.output.renderOutput(dataTable, element);\n",
              "          const docLink = document.createElement('div');\n",
              "          docLink.innerHTML = docLinkHtml;\n",
              "          element.appendChild(docLink);\n",
              "        }\n",
              "      </script>\n",
              "    </div>\n",
              "  </div>\n"
            ]
          },
          "metadata": {},
          "execution_count": 1
        }
      ],
      "source": [
        "import pandas as pd\n",
        "fish = pd.read_csv('https://bit.ly/fish_csv_data')\n",
        "fish.head()         # 처음 5개 행 출력"
      ]
    },
    {
      "cell_type": "code",
      "source": [
        "#Species 열에서 고유한 값을 추출  --> unique()사용\n",
        "\n",
        "print(pd.unique(fish['Species']))"
      ],
      "metadata": {
        "colab": {
          "base_uri": "https://localhost:8080/"
        },
        "id": "R6lh8m9dc8qc",
        "outputId": "57ebfce4-6a35-405f-d682-b45ca02d0ea2"
      },
      "execution_count": 2,
      "outputs": [
        {
          "output_type": "stream",
          "name": "stdout",
          "text": [
            "['Bream' 'Roach' 'Whitefish' 'Parkki' 'Perch' 'Pike' 'Smelt']\n"
          ]
        }
      ]
    },
    {
      "cell_type": "markdown",
      "source": [
        "---\n",
        "# ***Species 열을 target으로 설정, 나머지 5개 열은 input data로 사용***\n",
        "\n",
        "*   input data, target data 생성\n",
        "---"
      ],
      "metadata": {
        "id": "qzU4TYB2eRS9"
      }
    },
    {
      "cell_type": "code",
      "source": [
        " # dataframe에서 여러 열을 선택하면 새로운 dataframe이 반환됨, 이를 to_numpy() 메서드로 numpy 배열로 변환하여 fish_input에 저장함\n",
        "\n",
        "fish_input = fish[['Weight','Length','Diagonal','Height','Width']].to_numpy()\n",
        "\n",
        "print(fish_input[:5])           # 처음 5개 행 출력 (numpy 배열 상태라서 head() 사용 불가)"
      ],
      "metadata": {
        "colab": {
          "base_uri": "https://localhost:8080/"
        },
        "id": "6dDPJCu-c8tE",
        "outputId": "9ec1528c-0a65-4acb-8a98-c0a8296798be"
      },
      "execution_count": 3,
      "outputs": [
        {
          "output_type": "stream",
          "name": "stdout",
          "text": [
            "[[242.      25.4     30.      11.52     4.02  ]\n",
            " [290.      26.3     31.2     12.48     4.3056]\n",
            " [340.      26.5     31.1     12.3778   4.6961]\n",
            " [363.      29.      33.5     12.73     4.4555]\n",
            " [430.      29.      34.      12.444    5.134 ]]\n"
          ]
        }
      ]
    },
    {
      "cell_type": "code",
      "source": [
        "# target data 생성\n",
        "\n",
        "fish_target = fish['Species'].to_numpy()"
      ],
      "metadata": {
        "id": "OQEaoZeVc8vs"
      },
      "execution_count": 4,
      "outputs": []
    },
    {
      "cell_type": "markdown",
      "source": [
        "# ***input data와 target data를 train, test로 분류***\n",
        "*   train_test_split 사용"
      ],
      "metadata": {
        "id": "gBp1w-0IgPgm"
      }
    },
    {
      "cell_type": "code",
      "source": [
        "from sklearn.model_selection import train_test_split\n",
        "train_input, test_input, train_target, test_target = train_test_split(fish_input, fish_target, random_state = 42)"
      ],
      "metadata": {
        "id": "Jn_G4x1xc8yN"
      },
      "execution_count": 5,
      "outputs": []
    },
    {
      "cell_type": "markdown",
      "source": [
        "*   ***scikit-leearn의 StandardScaler 클래스를 사용하여 train set와 test set를 표준화 전처리 해야함!!!***\n",
        "*   ***train set의 통계 값으로 test set를 변환해야 함!***"
      ],
      "metadata": {
        "id": "TknmXgPLg6nw"
      }
    },
    {
      "cell_type": "code",
      "source": [
        "from sklearn.preprocessing import StandardScaler\n",
        "ss = StandardScaler()\n",
        "ss.fit(train_input)\n",
        "train_scaled = ss.transform(train_input)\n",
        "test_scaled = ss.transform(test_input)"
      ],
      "metadata": {
        "id": "KAMeRnS9c80s"
      },
      "execution_count": 6,
      "outputs": []
    },
    {
      "cell_type": "markdown",
      "source": [
        "# ***K-최근접 이웃 분류기의 확률 예측***\n"
      ],
      "metadata": {
        "id": "ilVNNSochqUT"
      }
    },
    {
      "cell_type": "code",
      "source": [
        "from sklearn.neighbors import KNeighborsClassifier\n",
        "kn = KNeighborsClassifier(n_neighbors=3)            # 최근접 이웃 개수인 k를 3으로 지정\n",
        "kn.fit(train_scaled, train_target)\n",
        "print(kn.score(train_scaled, train_target))         #train set의 점수 확인\n",
        "print(kn.score(test_scaled, test_target))           #test set의 점수 확인"
      ],
      "metadata": {
        "colab": {
          "base_uri": "https://localhost:8080/"
        },
        "id": "Y4fhZ7m3c83c",
        "outputId": "cbf71f49-34e1-4ff4-c378-02e428303c32"
      },
      "execution_count": 7,
      "outputs": [
        {
          "output_type": "stream",
          "name": "stdout",
          "text": [
            "0.8907563025210085\n",
            "0.85\n"
          ]
        }
      ]
    },
    {
      "cell_type": "markdown",
      "source": [
        "*   앞서 fish dataframe에서 7종류의 생선이 있었음\n",
        "*   **target data를 만들 때 fish['Species']를 사용해 만들었기 때문에 train_target과 test_target에도 7종류의 생선이 들어가 있음**\n",
        "\n",
        " ***이렇게 target data에 2개 이상의 클래스가 포함된 문제를 다중 분류 (Multi-class classification)라고 부름***\n",
        "---\n",
        "\n",
        "*   앞선 예제에선 target 값을 0과 1로 이진 분류를 하였음.\n",
        "*   **다중분류에서 또한 숫자로 타깃값을 바꾸어 입력할 수 있지만, scikit-learn에선 문자열 그대로 target 값을 사용 가능함**\n",
        "\n",
        "*   주의!! --> target 값을 그대로 scikit-learn model에 전달하면 *순서가  자동으로 알파벳 순으로 매겨짐*\n",
        "*   **따라서 pd.unique(fish['Species'])로 출력했던 순서와 다름!!**"
      ],
      "metadata": {
        "id": "EbMBEduxicd2"
      }
    },
    {
      "cell_type": "code",
      "source": [
        "# KNeighborsClassifier에서 정렬된 target 값은 classes_ 속성에 저장되어 있음\n",
        "\n",
        "print(kn.classes_)"
      ],
      "metadata": {
        "colab": {
          "base_uri": "https://localhost:8080/"
        },
        "id": "uhrMylY3c86P",
        "outputId": "e9de6fac-1d57-49e6-a098-034b58bdbc3c"
      },
      "execution_count": 8,
      "outputs": [
        {
          "output_type": "stream",
          "name": "stdout",
          "text": [
            "['Bream' 'Parkki' 'Perch' 'Pike' 'Roach' 'Smelt' 'Whitefish']\n"
          ]
        }
      ]
    },
    {
      "cell_type": "markdown",
      "source": [
        "↑  'Bream'이 첫 번째 클래스,  'Parkki'가 두 번째 클래스가 되는 식임"
      ],
      "metadata": {
        "id": "RwpZdweVqjXp"
      }
    },
    {
      "cell_type": "code",
      "source": [
        "# predict() 메서드는 친절하게도 타깃값으로 예측을 출력함\n",
        "\n",
        "print(kn.predict(test_scaled[:5]))      # test set에 있는 처음 5개 샘플의 target 값을 예측"
      ],
      "metadata": {
        "colab": {
          "base_uri": "https://localhost:8080/"
        },
        "id": "z5b7VaQpqan5",
        "outputId": "41298a8c-eb94-4dcd-d7be-e654f5c94feb"
      },
      "execution_count": 9,
      "outputs": [
        {
          "output_type": "stream",
          "name": "stdout",
          "text": [
            "['Perch' 'Smelt' 'Pike' 'Perch' 'Perch']\n"
          ]
        }
      ]
    },
    {
      "cell_type": "markdown",
      "source": [
        "***scikit-learn의 분류 모델은 predict_proba() 메서드로 클래스별 확률값을 반환함***"
      ],
      "metadata": {
        "id": "MUtIz5dCrO5E"
      }
    },
    {
      "cell_type": "code",
      "source": [
        "import numpy as np\n",
        "proba = kn.predict_proba(test_scaled[:5])       #test set에 있는 처음 5개 샘플에 대한 확률을 출력\n",
        "print(np.round(proba, decimals = 4))            #decimal parameter로 소수점 네 번째 자리까지 표기, 5번째 자리에서 반올림"
      ],
      "metadata": {
        "colab": {
          "base_uri": "https://localhost:8080/"
        },
        "id": "wres-3uLrLfC",
        "outputId": "165f0b53-1c4a-4015-a154-9ce1326439f6"
      },
      "execution_count": 10,
      "outputs": [
        {
          "output_type": "stream",
          "name": "stdout",
          "text": [
            "[[0.     0.     1.     0.     0.     0.     0.    ]\n",
            " [0.     0.     0.     0.     0.     1.     0.    ]\n",
            " [0.     0.     0.     1.     0.     0.     0.    ]\n",
            " [0.     0.     0.6667 0.     0.3333 0.     0.    ]\n",
            " [0.     0.     0.6667 0.     0.3333 0.     0.    ]]\n"
          ]
        }
      ]
    },
    {
      "cell_type": "code",
      "source": [
        "# 위 모델이 계산한 확률이 가장 가까운 이웃의 비율이 맞는지 확인\n",
        "\n",
        "distances, indexes = kn.kneighbors(test_scaled[3:4])\n",
        "print(train_target[indexes])"
      ],
      "metadata": {
        "colab": {
          "base_uri": "https://localhost:8080/"
        },
        "id": "Qi46CxcisL82",
        "outputId": "b114e977-6a2f-4b84-fb30-629600627c2e"
      },
      "execution_count": 11,
      "outputs": [
        {
          "output_type": "stream",
          "name": "stdout",
          "text": [
            "[['Roach' 'Perch' 'Perch']]\n"
          ]
        }
      ]
    },
    {
      "cell_type": "markdown",
      "source": [
        "*   네 번째 샘플의 이웃은 다섯 번째 클래스인 'Roach'가 1개이고 세 번째 클래스인 'Perch'가 2개임\n",
        "*   ***따라서 'Roach'의 확률은 1/3 = 0.3333, 'Perch'의 확률은 2/3 = 0.6667임***\n",
        "*   ***위 모델은 3개의 최근접 이웃을 사용하기 때문에 가능한 확률은 0/3, 1/3, 2/3, 3/3 이 전부임 --> 부족함!!***"
      ],
      "metadata": {
        "id": "JwNBu7wls4BF"
      }
    },
    {
      "cell_type": "markdown",
      "source": [
        "# ***Logistic Regression (로지스틱 회귀)***\n",
        "*   이름은 회귀이지만 분류 모델임.  이 알고리즘은 선형회귀와 동일하게 선형 방정식을 학습함\n",
        "\n"
      ],
      "metadata": {
        "id": "ZDVkef3nt-67"
      }
    },
    {
      "cell_type": "markdown",
      "source": [
        " ***z = a * (Weight) + b * (Length) + c * (Diagonal) + d * (Height) + e * (Width) + f***"
      ],
      "metadata": {
        "id": "3Zfh7k3-qmeF"
      }
    },
    {
      "cell_type": "markdown",
      "source": [
        "*   a,b,c,d,e는 가중치 혹은 계수임.  특성은 늘어났지만 앞서 다룬 다중 회귀를 위한 선형 방정식과 같음\n",
        "*   z는 어떤 값도 가능함, 하지만 확률이 되려면 0 ~ 1 (또는 0~100%) 사이 값이 되어야 함\n",
        "*   따라서 0 ~ 1 사이 범위로 만들기 위해 ***Sigmoid function (또는 Logistic function)***을 사용하면 가능함\n",
        "![image.png](data:image/png;base64,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)\n",
        "\n",
        "↑  ***Sigmoid function & Sigmoid function Graph***\n",
        "\n",
        "*   z가 무한하게 큰 음수일 경우 이 함수에는 0, 무한하게 큰 양수일 땐 1에\n",
        "가까워짐\n",
        "*   z가 0이 될 때는 0.5가 됨"
      ],
      "metadata": {
        "id": "U2gISPD6rD4M"
      }
    },
    {
      "cell_type": "code",
      "source": [
        "# Sigmoid function 그리기\n",
        "\n",
        "import numpy as np\n",
        "import matplotlib.pyplot as plt\n",
        "z = np.arange(-5,5,0.1)\n",
        "phi = 1 / (1 + np.exp(-z))\n",
        "plt.plot(z,phi)\n",
        "plt.xlabel('z')\n",
        "plt.ylabel('phi')\n",
        "plt.show()"
      ],
      "metadata": {
        "id": "wxl4JODtsvGM",
        "colab": {
          "base_uri": "https://localhost:8080/",
          "height": 449
        },
        "outputId": "3ec11103-a684-422c-d6ca-b166876b82d5"
      },
      "execution_count": 12,
      "outputs": [
        {
          "output_type": "display_data",
          "data": {
            "text/plain": [
              "<Figure size 640x480 with 1 Axes>"
            ],
            "image/png": "[encoded data removed]"
          },
          "metadata": {}
        }
      ]
    },
    {
      "cell_type": "markdown",
      "source": [
        "# ***Logistic Regression으로 이진 분류 수행***\n",
        "\n",
        "* numpy 배열은 True, False 값을 전달하여 행을 선택할 수 있음 ---> ***Boolean indexing(불리언 인덱싱)***"
      ],
      "metadata": {
        "id": "zAa6V0t9tqo9"
      }
    },
    {
      "cell_type": "code",
      "source": [
        "# Boolean indexing example\n",
        "\n",
        "char_arr = np.array(['A', 'B', 'C', 'D', 'E'])\n",
        "print(char_arr[[True, False, True, False, False]])"
      ],
      "metadata": {
        "colab": {
          "base_uri": "https://localhost:8080/"
        },
        "id": "8WaLoapHtPgk",
        "outputId": "c00abda2-b4de-4010-ff05-978127e1bd90"
      },
      "execution_count": 13,
      "outputs": [
        {
          "output_type": "stream",
          "name": "stdout",
          "text": [
            "['A' 'C']\n"
          ]
        }
      ]
    },
    {
      "cell_type": "code",
      "source": [
        "# 도미(Bream)와 빙어(Smelt) 의 행만 골라내기\n",
        "\n",
        "bream_smelt_indexes = (train_target== 'Bream') | (train_target == 'Smelt')      # 비트 OR 연산자(|)를 사용하여 도미와 빙어에 대한 행만 골라냄\n",
        "train_bream_smelt = train_scaled[bream_smelt_indexes]\n",
        "target_bream_smelt = train_target[bream_smelt_indexes]"
      ],
      "metadata": {
        "id": "Y6c2Bnk1tdJb"
      },
      "execution_count": 14,
      "outputs": []
    },
    {
      "cell_type": "markdown",
      "source": [
        "*   bream_smelt_indexes 배열은 도미와 빙어일 경우 True이고 그 외는 모두 False 값이 들어있음\n",
        "*  ***bream_smelt_indexes 배열을 사용해 train_scaled와 train_target 배열에 Boolean indexing을 적용*** 하면 쉽게 도미와 빙어 데이터만 골라낼 수 있음"
      ],
      "metadata": {
        "id": "vDFaHno4xnaD"
      }
    },
    {
      "cell_type": "markdown",
      "source": [
        "# ***Model Training***\n",
        "*   Using LogisticRegression class"
      ],
      "metadata": {
        "id": "XQ7DeR2EySNT"
      }
    },
    {
      "cell_type": "code",
      "source": [
        "from sklearn.linear_model import LogisticRegression\n",
        "\n",
        "lr = LogisticRegression()\n",
        "lr.fit(train_bream_smelt, target_bream_smelt)"
      ],
      "metadata": {
        "colab": {
          "base_uri": "https://localhost:8080/",
          "height": 75
        },
        "id": "QlWaSF1Cwtfb",
        "outputId": "993a19f9-9f39-4a70-e6f0-0fb0baf3003e"
      },
      "execution_count": 15,
      "outputs": [
        {
          "output_type": "execute_result",
          "data": {
            "text/plain": [
              "LogisticRegression()"
            ],
            "text/html": [
              "<style>#sk-container-id-1 {color: black;background-color: white;}#sk-container-id-1 pre{padding: 0;}#sk-container-id-1 div.sk-toggleable {background-color: white;}#sk-container-id-1 label.sk-toggleable__label {cursor: pointer;display: block;width: 100%;margin-bottom: 0;padding: 0.3em;box-sizing: border-box;text-align: center;}#sk-container-id-1 label.sk-toggleable__label-arrow:before {content: \"▸\";float: left;margin-right: 0.25em;color: #696969;}#sk-container-id-1 label.sk-toggleable__label-arrow:hover:before {color: black;}#sk-container-id-1 div.sk-estimator:hover label.sk-toggleable__label-arrow:before {color: black;}#sk-container-id-1 div.sk-toggleable__content {max-height: 0;max-width: 0;overflow: hidden;text-align: left;background-color: #f0f8ff;}#sk-container-id-1 div.sk-toggleable__content pre {margin: 0.2em;color: black;border-radius: 0.25em;background-color: #f0f8ff;}#sk-container-id-1 input.sk-toggleable__control:checked~div.sk-toggleable__content {max-height: 200px;max-width: 100%;overflow: auto;}#sk-container-id-1 input.sk-toggleable__control:checked~label.sk-toggleable__label-arrow:before {content: \"▾\";}#sk-container-id-1 div.sk-estimator input.sk-toggleable__control:checked~label.sk-toggleable__label {background-color: #d4ebff;}#sk-container-id-1 div.sk-label input.sk-toggleable__control:checked~label.sk-toggleable__label {background-color: #d4ebff;}#sk-container-id-1 input.sk-hidden--visually {border: 0;clip: rect(1px 1px 1px 1px);clip: rect(1px, 1px, 1px, 1px);height: 1px;margin: -1px;overflow: hidden;padding: 0;position: absolute;width: 1px;}#sk-container-id-1 div.sk-estimator {font-family: monospace;background-color: #f0f8ff;border: 1px dotted black;border-radius: 0.25em;box-sizing: border-box;margin-bottom: 0.5em;}#sk-container-id-1 div.sk-estimator:hover {background-color: #d4ebff;}#sk-container-id-1 div.sk-parallel-item::after {content: \"\";width: 100%;border-bottom: 1px solid gray;flex-grow: 1;}#sk-container-id-1 div.sk-label:hover label.sk-toggleable__label {background-color: #d4ebff;}#sk-container-id-1 div.sk-serial::before {content: \"\";position: absolute;border-left: 1px solid gray;box-sizing: border-box;top: 0;bottom: 0;left: 50%;z-index: 0;}#sk-container-id-1 div.sk-serial {display: flex;flex-direction: column;align-items: center;background-color: white;padding-right: 0.2em;padding-left: 0.2em;position: relative;}#sk-container-id-1 div.sk-item {position: relative;z-index: 1;}#sk-container-id-1 div.sk-parallel {display: flex;align-items: stretch;justify-content: center;background-color: white;position: relative;}#sk-container-id-1 div.sk-item::before, #sk-container-id-1 div.sk-parallel-item::before {content: \"\";position: absolute;border-left: 1px solid gray;box-sizing: border-box;top: 0;bottom: 0;left: 50%;z-index: -1;}#sk-container-id-1 div.sk-parallel-item {display: flex;flex-direction: column;z-index: 1;position: relative;background-color: white;}#sk-container-id-1 div.sk-parallel-item:first-child::after {align-self: flex-end;width: 50%;}#sk-container-id-1 div.sk-parallel-item:last-child::after {align-self: flex-start;width: 50%;}#sk-container-id-1 div.sk-parallel-item:only-child::after {width: 0;}#sk-container-id-1 div.sk-dashed-wrapped {border: 1px dashed gray;margin: 0 0.4em 0.5em 0.4em;box-sizing: border-box;padding-bottom: 0.4em;background-color: white;}#sk-container-id-1 div.sk-label label {font-family: monospace;font-weight: bold;display: inline-block;line-height: 1.2em;}#sk-container-id-1 div.sk-label-container {text-align: center;}#sk-container-id-1 div.sk-container {/* jupyter's `normalize.less` sets `[hidden] { display: none; }` but bootstrap.min.css set `[hidden] { display: none !important; }` so we also need the `!important` here to be able to override the default hidden behavior on the sphinx rendered scikit-learn.org. See: https://github.com/scikit-learn/scikit-learn/issues/21755 */display: inline-block !important;position: relative;}#sk-container-id-1 div.sk-text-repr-fallback {display: none;}</style><div id=\"sk-container-id-1\" class=\"sk-top-container\"><div class=\"sk-text-repr-fallback\"><pre>LogisticRegression()</pre><b>In a Jupyter environment, please rerun this cell to show the HTML representation or trust the notebook. <br />On GitHub, the HTML representation is unable to render, please try loading this page with nbviewer.org.</b></div><div class=\"sk-container\" hidden><div class=\"sk-item\"><div class=\"sk-estimator sk-toggleable\"><input class=\"sk-toggleable__control sk-hidden--visually\" id=\"sk-estimator-id-1\" type=\"checkbox\" checked><label for=\"sk-estimator-id-1\" class=\"sk-toggleable__label sk-toggleable__label-arrow\">LogisticRegression</label><div class=\"sk-toggleable__content\"><pre>LogisticRegression()</pre></div></div></div></div></div>"
            ]
          },
          "metadata": {},
          "execution_count": 15
        }
      ]
    },
    {
      "cell_type": "code",
      "source": [
        "#  train_bream_smelt에 있는 처음 5개 샘플을 예측\n",
        "\n",
        "print(lr.predict(train_bream_smelt[:5]))"
      ],
      "metadata": {
        "colab": {
          "base_uri": "https://localhost:8080/"
        },
        "id": "qd9424OQwvaz",
        "outputId": "aa2a16dc-9c01-49c4-ee98-22ee8d3033d2"
      },
      "execution_count": 16,
      "outputs": [
        {
          "output_type": "stream",
          "name": "stdout",
          "text": [
            "['Bream' 'Smelt' 'Bream' 'Bream' 'Bream']\n"
          ]
        }
      ]
    },
    {
      "cell_type": "code",
      "source": [
        "# predict_proba()를 이용하여 처음 5개 샘플의 예측 확률을 출력\n",
        "\n",
        "print(lr.predict_proba(train_bream_smelt[:5]))"
      ],
      "metadata": {
        "colab": {
          "base_uri": "https://localhost:8080/"
        },
        "id": "TJfr4LYxzai1",
        "outputId": "73c62bcd-df15-42c0-f585-ef1e96d6dd81"
      },
      "execution_count": 17,
      "outputs": [
        {
          "output_type": "stream",
          "name": "stdout",
          "text": [
            "[[0.99759855 0.00240145]\n",
            " [0.02735183 0.97264817]\n",
            " [0.99486072 0.00513928]\n",
            " [0.98584202 0.01415798]\n",
            " [0.99767269 0.00232731]]\n"
          ]
        }
      ]
    },
    {
      "cell_type": "markdown",
      "source": [
        "*   k-최근접 이웃 분류기에서 보았듯이 scikit-learn은 target값을 알파벳 순으로 정렬하여 사용\n",
        "*   따라서 ***Smelt(빙어)가 양성 클래스(1, 두 번째 열)임!!***"
      ],
      "metadata": {
        "id": "tldjASag0GOx"
      }
    },
    {
      "cell_type": "code",
      "source": [
        "# classes_ 속성에서 확인     --->  빙어(Smelt)가 양성 클래스\n",
        "print(lr.classes_)"
      ],
      "metadata": {
        "id": "2vWqzeo20Cog",
        "colab": {
          "base_uri": "https://localhost:8080/"
        },
        "outputId": "b5eb9403-0900-49cb-8623-b7124158eaad"
      },
      "execution_count": 19,
      "outputs": [
        {
          "output_type": "stream",
          "name": "stdout",
          "text": [
            "['Bream' 'Smelt']\n"
          ]
        }
      ]
    },
    {
      "cell_type": "code",
      "source": [
        "# 선형 회귀에서처럼 Logistic Regression가 학습한 계수 확인\n",
        "\n",
        "print(lr.coef_, lr.intercept_)"
      ],
      "metadata": {
        "colab": {
          "base_uri": "https://localhost:8080/"
        },
        "id": "iHvZqseTG_em",
        "outputId": "0a262eb8-8f50-4237-d815-e8138794788c"
      },
      "execution_count": 20,
      "outputs": [
        {
          "output_type": "stream",
          "name": "stdout",
          "text": [
            "[[-0.4037798  -0.57620209 -0.66280298 -1.01290277 -0.73168947]] [-2.16155132]\n"
          ]
        }
      ]
    },
    {
      "cell_type": "markdown",
      "source": [
        "***z = -0.404 * (Weight) - 0.576 * (Length) - 0.663 * (Diagonal) - 1.013 * (Height) - 0.732 * (Width) - 2.161***\n",
        "\n",
        "*   Logistic Regression은 Linear Regression과 매우 유사\n",
        "*   LogisticRegression 모델로 z 값을 계산 할 수 있음\n",
        "*   decision_function() 메서드로 z 값 출력 가능"
      ],
      "metadata": {
        "id": "svtx3QZ8HiSv"
      }
    },
    {
      "cell_type": "code",
      "source": [
        "# train_bream_smelt의 처음 5개 샘플의 z 값 출력\n",
        "\n",
        "decisions = lr.decision_function(train_bream_smelt)[:5]\n",
        "print(decisions)"
      ],
      "metadata": {
        "colab": {
          "base_uri": "https://localhost:8080/"
        },
        "id": "dvPuHovkIa_H",
        "outputId": "1a45fd7e-2ccf-45dd-e6c2-18cea02e54ce"
      },
      "execution_count": 21,
      "outputs": [
        {
          "output_type": "stream",
          "name": "stdout",
          "text": [
            "[-6.02927744  3.57123907 -5.26568906 -4.24321775 -6.0607117 ]\n"
          ]
        }
      ]
    },
    {
      "cell_type": "markdown",
      "source": [
        "*   위 z 값을 Sigmoid 함수에 통과 시키면 확률을 얻을 수 있음\n",
        "*   파이썬의 scipy 라이브러리에도 Sigmoid 함수인 ***expit()***이 있음\n",
        "*   np.exp() 함수를 사용해 분수 계산을 하는 것보다 훨씬 편리하고 안전함"
      ],
      "metadata": {
        "id": "rh87D_WtIyie"
      }
    },
    {
      "cell_type": "code",
      "source": [
        "# z 값을 확률로 변환\n",
        "\n",
        "from scipy.special import expit\n",
        "print(expit(decisions))"
      ],
      "metadata": {
        "colab": {
          "base_uri": "https://localhost:8080/"
        },
        "id": "mw_2hiGdHhRX",
        "outputId": "565cf568-864e-4020-875d-1629bfbaba07"
      },
      "execution_count": 22,
      "outputs": [
        {
          "output_type": "stream",
          "name": "stdout",
          "text": [
            "[0.00240145 0.97264817 0.00513928 0.01415798 0.00232731]\n"
          ]
        }
      ]
    },
    {
      "cell_type": "markdown",
      "source": [
        "*   출력된 값을 보면 predict_proba() 메서드 출력의 두 번째 열의 값과 동일함\n",
        "*   ***즉 decision_function() 메서드는 양성 클래스에 대한 z 값을 반환함***"
      ],
      "metadata": {
        "id": "L_OP8LmqJplD"
      }
    },
    {
      "cell_type": "markdown",
      "source": [
        "# ***Multiple Classification using Logistic Regression(로지스틱 회귀로 다중 분류 수행하기)***\n",
        "\n",
        "*   LogisticRegression 클래스를 사용해 7개의 생선을 분류함\n",
        "*   LogisticRegression 클래스는 기본적으로 반복적인 알고리즘을 사용함\n",
        "---\n",
        "*   max_iter 매개변수에서 반복 횟수를 지정하며 기본값은 100임 --> ***충분하게 훈련시키기 위해 반복 횟수를 1000으로 늘림***\n",
        "*   LogisticRegression은 기본적으로 Ridge Regression과 같이 *계수의 제곱을 규제함*  --> ***L2 규제*** 라고도 함\n",
        "*   Ridge Regression에서 alpha 값이 커지면 규제도 커짐 --> LogisticRegression에선 규제를 제어하는 배개변수는 ***C***임\n",
        "*   ***C는 alpha와 반대로 작을수록 규제가 커짐*** --> 기본값 : 1, ***규제를 완화하기 위해 20으로 늘림***"
      ],
      "metadata": {
        "id": "pW1QUKrmKAni"
      }
    },
    {
      "cell_type": "code",
      "source": [
        "# LogisticRegression 클래스로 Multiple Classification을 훈련\n",
        "\n",
        "lr = LogisticRegression(C=20 , max_iter = 1000)     # C 값 20, max_iter값 1000으로 변경\n",
        "lr.fit(train_scaled, train_target)\n",
        "print(lr.score(train_scaled, train_target))\n",
        "print(lr.score(test_scaled, test_target))"
      ],
      "metadata": {
        "colab": {
          "base_uri": "https://localhost:8080/"
        },
        "id": "Ndmn_b7NJkit",
        "outputId": "1612c9cd-c8ef-4049-9940-2314cc917c2f"
      },
      "execution_count": 23,
      "outputs": [
        {
          "output_type": "stream",
          "name": "stdout",
          "text": [
            "0.9327731092436975\n",
            "0.925\n"
          ]
        }
      ]
    },
    {
      "cell_type": "markdown",
      "source": [
        "↑ train set 와 test set에 대한 점수가 높고 과대, 과소적합은 없어보임\n"
      ],
      "metadata": {
        "id": "XlY9lFT-N3qT"
      }
    },
    {
      "cell_type": "code",
      "source": [
        "# test set의 처음 5개 샘플에 대한 예측 출력\n",
        "\n",
        "print(lr.predict(test_scaled[:5]))"
      ],
      "metadata": {
        "colab": {
          "base_uri": "https://localhost:8080/"
        },
        "id": "E1qFzY7IN2sc",
        "outputId": "7ce59881-4d1a-45fc-9b34-75d9d64218c2"
      },
      "execution_count": 27,
      "outputs": [
        {
          "output_type": "stream",
          "name": "stdout",
          "text": [
            "['Perch' 'Smelt' 'Pike' 'Roach' 'Perch']\n"
          ]
        }
      ]
    },
    {
      "cell_type": "code",
      "source": [
        "# test set의 처음 5개 샘플에 대한 예측 확률 출력\n",
        "\n",
        "proba = lr.predict_proba(test_scaled[:5])\n",
        "print(np.round(proba, decimals=3))"
      ],
      "metadata": {
        "colab": {
          "base_uri": "https://localhost:8080/"
        },
        "id": "wyjaFGTEOVC_",
        "outputId": "55f4ebc0-693d-4a95-c5ed-8decb4cbc6e3"
      },
      "execution_count": 30,
      "outputs": [
        {
          "output_type": "stream",
          "name": "stdout",
          "text": [
            "[[0.    0.014 0.841 0.    0.136 0.007 0.003]\n",
            " [0.    0.003 0.044 0.    0.007 0.946 0.   ]\n",
            " [0.    0.    0.034 0.935 0.015 0.016 0.   ]\n",
            " [0.011 0.034 0.306 0.007 0.567 0.    0.076]\n",
            " [0.    0.    0.904 0.002 0.089 0.002 0.001]]\n"
          ]
        }
      ]
    },
    {
      "cell_type": "markdown",
      "source": [
        "*   5개 샘플에 대한 예측이므로 5개 행 출력\n",
        "*   7개 생선에 대한 확률을 계산했으므로 7개의 열 출력\n",
        "*   이진 분류일 경우 2개의 열만 있었음"
      ],
      "metadata": {
        "id": "Ou8OE-HrO7EI"
      }
    },
    {
      "cell_type": "code",
      "source": [
        "# 열의 정보 확인 (알파벳 순)\n",
        "\n",
        "print(lr.classes_)"
      ],
      "metadata": {
        "colab": {
          "base_uri": "https://localhost:8080/"
        },
        "id": "1tbxyaP2Orxf",
        "outputId": "ec938ebd-915f-4dbc-b95f-6dabb8e47ace"
      },
      "execution_count": 32,
      "outputs": [
        {
          "output_type": "stream",
          "name": "stdout",
          "text": [
            "['Bream' 'Parkki' 'Perch' 'Pike' 'Roach' 'Smelt' 'Whitefish']\n"
          ]
        }
      ]
    },
    {
      "cell_type": "code",
      "source": [
        "# 다중 분류일 경우 선형방정식의 모습 --> coef_와 intercept_의 크기 출력\n",
        "\n",
        "print(lr.coef_.shape, lr.intercept_.shape)"
      ],
      "metadata": {
        "colab": {
          "base_uri": "https://localhost:8080/"
        },
        "id": "-piPscYjPgm7",
        "outputId": "3c7a7ef1-0e94-4c9e-ea09-505ef096ec18"
      },
      "execution_count": 33,
      "outputs": [
        {
          "output_type": "stream",
          "name": "stdout",
          "text": [
            "(7, 5) (7,)\n"
          ]
        }
      ]
    },
    {
      "cell_type": "markdown",
      "source": [
        "*   5개의 특성을 사용하므로 coef_ 배열의 열은 5개\n",
        "*   coef_ 와 intercept_ 의 행이 7개임 --> 이진 분류에서 보았던 z를 7개나 계산함\n",
        "*   다중 분류는 클래스마다 z 값을 하나씩 계산함 --> 가장 높은 z 값을 출력하는 클래스가 예측 클래스가 됨\n",
        "*   ***다중 분류는 Softmax 함수를 사용하여 7개의 z 값을 확률로 변환함***\n",
        "----\n",
        "\n",
        "\n"
      ],
      "metadata": {
        "id": "07asnWBpP4z4"
      }
    },
    {
      "cell_type": "markdown",
      "source": [
        "#    ***Softmax function***\n",
        "\n",
        "*   소프트 맥스 함수는 ***여러개의 선형 방정식의 출력값을 0 ~ 1사이로 압축하고 전체 합이 1이 되도록 만듦***\n",
        "*   이를 위해 지수 함수를 사용하기 때문에 ***정규화된 지수 함수*** 라고도 부름\n",
        "\n",
        "![image.png](data:image/png;base64,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)"
      ],
      "metadata": {
        "id": "DBMyPSXsRmLm"
      }
    },
    {
      "cell_type": "code",
      "source": [
        "# decision_function() 메서드로 test set의 처음 5개 샘플에 대한 z1 ~ z7 까지의 값을 구함\n",
        "\n",
        "decision = lr.decision_function(test_scaled[:5])\n",
        "print(np.round(decision, decimals=2))"
      ],
      "metadata": {
        "colab": {
          "base_uri": "https://localhost:8080/"
        },
        "id": "e6ReL8M0P3xo",
        "outputId": "be6ebec3-02e4-4d89-cf42-a14ceb4bfc5d"
      },
      "execution_count": 34,
      "outputs": [
        {
          "output_type": "stream",
          "name": "stdout",
          "text": [
            "[[ -6.5    1.03   5.16  -2.73   3.34   0.33  -0.63]\n",
            " [-10.86   1.93   4.77  -2.4    2.98   7.84  -4.26]\n",
            " [ -4.34  -6.23   3.17   6.49   2.36   2.42  -3.87]\n",
            " [ -0.68   0.45   2.65  -1.19   3.26  -5.75   1.26]\n",
            " [ -6.4   -1.99   5.82  -0.11   3.5   -0.11  -0.71]]\n"
          ]
        }
      ]
    },
    {
      "cell_type": "code",
      "source": [
        "# scipy가 제공하는 소프트맥스 함수로 앞선 z1 ~ z7 값을 확률로 변환\n",
        "\n",
        "from scipy.special import softmax\n",
        "\n",
        "proba = softmax(decision, axis=1)           # axis=1 로 지정하여 각 행, 즉 각 샘플에 대한 소프트맥스를 계산함, axis 매개변수를 지정하지 않으면 배열 전체에 대해 소프트 맥스를 계산함\n",
        "print(np.round(proba, decimals=3))"
      ],
      "metadata": {
        "colab": {
          "base_uri": "https://localhost:8080/"
        },
        "id": "GCTJx6P4SadR",
        "outputId": "0ad111c6-5826-470c-a1cd-0c593631c15b"
      },
      "execution_count": 39,
      "outputs": [
        {
          "output_type": "stream",
          "name": "stdout",
          "text": [
            "[[0.    0.014 0.841 0.    0.136 0.007 0.003]\n",
            " [0.    0.003 0.044 0.    0.007 0.946 0.   ]\n",
            " [0.    0.    0.034 0.935 0.015 0.016 0.   ]\n",
            " [0.011 0.034 0.306 0.007 0.567 0.    0.076]\n",
            " [0.    0.    0.904 0.002 0.089 0.002 0.001]]\n"
          ]
        }
      ]
    }
  ]
}
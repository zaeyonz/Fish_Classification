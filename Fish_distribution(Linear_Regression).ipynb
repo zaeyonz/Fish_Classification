{
  "nbformat": 4,
  "nbformat_minor": 0,
  "metadata": {
    "colab": {
      "provenance": [],
      "authorship_tag": "ABX9TyM74U6r/X4dh0kxTak00Kde",
      "include_colab_link": true
    },
    "kernelspec": {
      "name": "python3",
      "display_name": "Python 3"
    },
    "language_info": {
      "name": "python"
    }
  },
  "cells": [
    {
      "cell_type": "markdown",
      "metadata": {
        "id": "view-in-github",
        "colab_type": "text"
      },
      "source": [
        "<a href=\"https://colab.research.google.com/github/zaeyonz/Fish_distribution/blob/main/Fish_distribution(Linear_Regression).ipynb\" target=\"_parent\"><img src=\"https://colab.research.google.com/assets/colab-badge.svg\" alt=\"Open In Colab\"/></a>"
      ]
    },
    {
      "cell_type": "markdown",
      "source": [
        "# ***Data 준비***"
      ],
      "metadata": {
        "id": "LGugIMdqV8jv"
      }
    },
    {
      "cell_type": "code",
      "source": [
        "import numpy as np\n",
        "\n",
        "perch_length = np.array([8.4, 13.7, 15.0, 16.2, 17.4, 18.0, 18.7, 19.0, 19.6, 20.0, 21.0,\n",
        "       21.0, 21.0, 21.3, 22.0, 22.0, 22.0, 22.0, 22.0, 22.5, 22.5, 22.7,\n",
        "       23.0, 23.5, 24.0, 24.0, 24.6, 25.0, 25.6, 26.5, 27.3, 27.5, 27.5,\n",
        "       27.5, 28.0, 28.7, 30.0, 32.8, 34.5, 35.0, 36.5, 36.0, 37.0, 37.0,\n",
        "       39.0, 39.0, 39.0, 40.0, 40.0, 40.0, 40.0, 42.0, 43.0, 43.0, 43.5,\n",
        "       44.0])\n",
        "perch_weight = np.array([5.9, 32.0, 40.0, 51.5, 70.0, 100.0, 78.0, 80.0, 85.0, 85.0, 110.0,\n",
        "       115.0, 125.0, 130.0, 120.0, 120.0, 130.0, 135.0, 110.0, 130.0,\n",
        "       150.0, 145.0, 150.0, 170.0, 225.0, 145.0, 188.0, 180.0, 197.0,\n",
        "       218.0, 300.0, 260.0, 265.0, 250.0, 250.0, 300.0, 320.0, 514.0,\n",
        "       556.0, 840.0, 685.0, 700.0, 700.0, 690.0, 900.0, 650.0, 820.0,\n",
        "       850.0, 900.0, 1015.0, 820.0, 1100.0, 1000.0, 1100.0, 1000.0,\n",
        "       1000.0])"
      ],
      "metadata": {
        "id": "lMZp1ZfnVBiP"
      },
      "execution_count": null,
      "outputs": []
    },
    {
      "cell_type": "markdown",
      "source": [
        "# ***traing set와 test set로 data 나누기***\n",
        "\n",
        "* 특성 데이터는 2차원 배열로 변환\n"
      ],
      "metadata": {
        "id": "mZ9LuTqkWtTc"
      }
    },
    {
      "cell_type": "code",
      "source": [
        "from sklearn.model_selection import train_test_split\n",
        "\n",
        "#train set 와 test set 나누기\n",
        "train_input, test_input ,train_target, test_target = train_test_split(perch_length, perch_weight, random_state=42)\n",
        "\n",
        "#train set와 test set를 2차원 배열로 변경\n",
        "train_input = train_input.reshape(-1,1)\n",
        "test_input = test_input.reshape(-1,1)"
      ],
      "metadata": {
        "id": "0AK90GD4VBkv"
      },
      "execution_count": null,
      "outputs": []
    },
    {
      "cell_type": "markdown",
      "source": [
        "# ***Model training***\n",
        "\n",
        "*   Using KNeighborsRegressor()\n",
        "*   최근접 이웃 개수 3 설정"
      ],
      "metadata": {
        "id": "GzK8RLXtXrPx"
      }
    },
    {
      "cell_type": "code",
      "source": [
        "from sklearn.neighbors import KNeighborsRegressor\n",
        "\n",
        "knr = KNeighborsRegressor(n_neighbors=3)\n",
        "\n",
        "knr.fit(train_input, train_target)\n",
        "\n",
        "#길이가 50cm인 농어의 무게를 예측\n",
        "print(knr.predict([[50]]))"
      ],
      "metadata": {
        "colab": {
          "base_uri": "https://localhost:8080/"
        },
        "id": "-040y1BZW4sn",
        "outputId": "d50ee3b7-6e2b-45c5-9058-917e6a2eedf4"
      },
      "execution_count": null,
      "outputs": [
        {
          "output_type": "stream",
          "name": "stdout",
          "text": [
            "[1033.33333333]\n"
          ]
        }
      ]
    },
    {
      "cell_type": "markdown",
      "source": [
        "모델은 50cm의 농어의 무게를 1033g 정도로 예측했음\n",
        "\n",
        "하지만 실제 이 농어의 무게는 훨씬 더 많이 나감 ----> 모델의 예측이 틀림!"
      ],
      "metadata": {
        "id": "BpCfuE3wYOGo"
      }
    },
    {
      "cell_type": "markdown",
      "source": [
        "# ***문제 확인***"
      ],
      "metadata": {
        "id": "1sqPP4_OYdXq"
      }
    },
    {
      "cell_type": "code",
      "source": [
        "#훈련세트와 50cm 농어 그리고 이 농어의 최근접 이웃을 산점도에 표시\n",
        "\n",
        "import matplotlib.pyplot as plt\n",
        "\n",
        "distance, indexes = knr.kneighbors([[50]])                                      #50cm 농어의 최근접 이웃 3개와의 거리와 그 샘플들의 인덱스를 구함\n",
        "\n",
        "plt.scatter(train_input, train_target)                                          #train set의 산점도\n",
        "plt.scatter(train_input[indexes], train_target[indexes], marker='D')            #train set에서의 최근접 이웃 샘플을 마름모로 표시\n",
        "\n",
        "plt.scatter(50, 1033, marker='^')                                               #50cm 농어의 데이터\n",
        "plt.xlabel('length')\n",
        "plt.ylabel('weight')\n",
        "plt.show()"
      ],
      "metadata": {
        "colab": {
          "base_uri": "https://localhost:8080/",
          "height": 449
        },
        "id": "tleU9zvTW4qU",
        "outputId": "ca8472e3-157f-4f3c-f7ce-21dba7dc86da"
      },
      "execution_count": null,
      "outputs": [
        {
          "output_type": "display_data",
          "data": {
            "text/plain": [
              "<Figure size 640x480 with 1 Axes>"
            ],
            "image/png": "[encoded data removed]"
          },
          "metadata": {}
        }
      ]
    },
    {
      "cell_type": "markdown",
      "source": [
        "*   길이가 커질수록 농어의 무게가 증가하는 경향을 보임\n",
        "*   하지만 50cm 농어에서 가장 가까운 것은 45cm 근방이기 때문에 k-최근접 이웃 알고리즘은 이 샘플들의 무게를 평균함\n",
        "* ***따라서 이 모델은 최대 45cm를 넘어가는 데이터를 입력 받으면 항상 1033g으로 예측 할 수 밖에 없음***\n",
        "---"
      ],
      "metadata": {
        "id": "V_btYAEhaSPx"
      }
    },
    {
      "cell_type": "code",
      "source": [
        "# 이웃 샘플들의 타깃의 평균\n",
        "print(np.mean(train_target[indexes]))\n",
        "print('         ')\n",
        "\n",
        "\n",
        "# 길이가 100cm인 농어도 1033g으로 예측할 것임 ---> 틀림!\n",
        "print(knr.predict([[100]]))"
      ],
      "metadata": {
        "colab": {
          "base_uri": "https://localhost:8080/"
        },
        "id": "EOrHF9jSW4n8",
        "outputId": "e0d4e86f-c625-4d08-a9e6-c30b1322f115"
      },
      "execution_count": null,
      "outputs": [
        {
          "output_type": "stream",
          "name": "stdout",
          "text": [
            "1033.3333333333333\n",
            "         \n",
            "[1033.33333333]\n"
          ]
        }
      ]
    },
    {
      "cell_type": "markdown",
      "source": [
        "# ***선형 회귀(Linear Regression)***\n",
        "---\n",
        "*   특성이 하나인 경우 어떤 직선을 학습하는 알고리즘\n",
        "*   사이킷런은 *sklearn.linear_model 패키지 아래에 LinearRegression 클래스*로 알고리즘을 구현하였음\n"
      ],
      "metadata": {
        "id": "T48EFhDucuQe"
      }
    },
    {
      "cell_type": "code",
      "source": [
        "from sklearn.linear_model import LinearRegression\n",
        "lr = LinearRegression()\n",
        "\n",
        "lr.fit(train_input, train_target)               # 모델 훈련\n",
        "\n",
        "print(lr.predict([[50]]))          # 50cm 농어 무게 예측"
      ],
      "metadata": {
        "colab": {
          "base_uri": "https://localhost:8080/"
        },
        "id": "JUfQ3a-lVBsP",
        "outputId": "82760eed-3ee1-4cb4-eedd-ef9420e03cd0"
      },
      "execution_count": null,
      "outputs": [
        {
          "output_type": "stream",
          "name": "stdout",
          "text": [
            "[1241.83860323]\n"
          ]
        }
      ]
    },
    {
      "cell_type": "markdown",
      "source": [
        "*   LinearRegression 클래스에는 coef_ 와 intercept_ 속성이 저장 되어 있음\n",
        "*   coef_는 계수(coefficient) 또는 가중치(weight)라고 부름"
      ],
      "metadata": {
        "id": "H7Us0sRSgnjP"
      }
    },
    {
      "cell_type": "code",
      "source": [
        "print(lr.coef_, lr.intercept_)"
      ],
      "metadata": {
        "colab": {
          "base_uri": "https://localhost:8080/"
        },
        "id": "Cl66kGoLhH0j",
        "outputId": "5713e33a-0f3d-404e-8b1e-7ac082cf56fa"
      },
      "execution_count": null,
      "outputs": [
        {
          "output_type": "stream",
          "name": "stdout",
          "text": [
            "[39.01714496] -709.0186449535477\n"
          ]
        }
      ]
    },
    {
      "cell_type": "code",
      "source": [
        "plt.scatter(train_input, train_target)\n",
        "\n",
        "\n",
        "#15에서 50까지 1차 방정식 그래프를 그림\n",
        "plt.plot([15, 50], [15*lr.coef_+lr.intercept_, 50*lr.coef_+lr.intercept_], color='red'  )\n",
        "\n",
        "#50cm 농어 데이터\n",
        "plt.scatter(50, lr.predict([[50]]), marker='^')\n",
        "plt.xlabel('length')\n",
        "plt.ylabel('weight')\n",
        "plt.show()\n"
      ],
      "metadata": {
        "id": "YrnAcECHhHyT",
        "colab": {
          "base_uri": "https://localhost:8080/",
          "height": 449
        },
        "outputId": "8bc7a7b5-8118-4635-e932-d42d2f38e818"
      },
      "execution_count": null,
      "outputs": [
        {
          "output_type": "display_data",
          "data": {
            "text/plain": [
              "<Figure size 640x480 with 1 Axes>"
            ],
            "image/png": "[encoded data removed]"
          },
          "metadata": {}
        }
      ]
    },
    {
      "cell_type": "markdown",
      "source": [
        "*   위 빨간 직선은 선형 회귀 알고리즘이 이 데이터셋에서 찾은 최적의 직선임\n",
        "*   길이가 50cm인 농어에 대한 예측( lr.predict([[50]]) 은 위 직선의 연장선에 있음\n",
        "----"
      ],
      "metadata": {
        "id": "a1qE3JmShQiO"
      }
    },
    {
      "cell_type": "code",
      "source": [
        "# 각각의 세트의 R²점수\n",
        "print(lr.score(train_input, train_target))      # train set의 R²점수\n",
        "print(lr.score(test_input, test_target))        #test set의 R²점수"
      ],
      "metadata": {
        "id": "EwPxUYGihHvS",
        "colab": {
          "base_uri": "https://localhost:8080/"
        },
        "outputId": "b82f3c6d-6e9b-4e05-bb87-115d6b601b9c"
      },
      "execution_count": null,
      "outputs": [
        {
          "output_type": "stream",
          "name": "stdout",
          "text": [
            "0.939846333997604\n",
            "0.8247503123313558\n"
          ]
        }
      ]
    },
    {
      "cell_type": "markdown",
      "source": [
        "---\n",
        "*   train set 와 test set의 점수가 조금 차이 남\n",
        "*   과대적합?? **NO**  Why?  훈련세트의 점수도 높은 편이 아님\n",
        "*   오히려 전체적으로 과소적합이라 할 수 있음\n",
        "*   또한 그래프의 왼쪽 아래 부분은 예측과 벗어남 ---> 회귀 방정식이 2차 방정식의 꼴을 가짐을 알 수 있음\n",
        "---"
      ],
      "metadata": {
        "id": "e6nlMz8biGxN"
      }
    },
    {
      "cell_type": "markdown",
      "source": [
        "# ***다항 회귀***\n",
        "*   0이하의 값을 가지는 실제 값(무게, 길이 등)은 불가능 하므로 다항 회귀방정식의 꼴을 가지게 됨\n",
        "*   2차 방정식의 그래프를 그리려면 샘플을 제곱한 항이 train set에 추가되어야 함"
      ],
      "metadata": {
        "id": "nWtCI5l-jHTq"
      }
    },
    {
      "cell_type": "code",
      "source": [
        "#numpy 사용\n",
        "\n",
        "train_poly = np.column_stack((train_input ** 2,train_input))\n",
        "test_poly = np.column_stack((test_input ** 2, test_input))"
      ],
      "metadata": {
        "id": "xrm2rnhvjG9p"
      },
      "execution_count": null,
      "outputs": []
    },
    {
      "cell_type": "code",
      "source": [
        "# 새롭게 만든 데이터셋의 크기 확인\n",
        "print(train_poly.shape, test_poly.shape)"
      ],
      "metadata": {
        "colab": {
          "base_uri": "https://localhost:8080/"
        },
        "id": "wJOzdHyJi8Iq",
        "outputId": "d5a0767b-f168-4f34-ae15-3fe0a4075e5a"
      },
      "execution_count": null,
      "outputs": [
        {
          "output_type": "stream",
          "name": "stdout",
          "text": [
            "(42, 2) (14, 2)\n"
          ]
        }
      ]
    },
    {
      "cell_type": "markdown",
      "source": [
        "# ***Model training (new data set)***"
      ],
      "metadata": {
        "id": "LkZq3kdDlklU"
      }
    },
    {
      "cell_type": "code",
      "source": [
        "lr = LinearRegression()\n",
        "lr.fit(train_poly, train_target)\n",
        "\n",
        "print(lr.predict([[50**2, 50]]))"
      ],
      "metadata": {
        "colab": {
          "base_uri": "https://localhost:8080/"
        },
        "id": "gCPx-qRQldRD",
        "outputId": "512a6b16-2323-486f-efd0-815347cd8aac"
      },
      "execution_count": null,
      "outputs": [
        {
          "output_type": "stream",
          "name": "stdout",
          "text": [
            "[1573.98423528]\n"
          ]
        }
      ]
    },
    {
      "cell_type": "code",
      "source": [
        "print(lr.coef_, lr.intercept_)"
      ],
      "metadata": {
        "colab": {
          "base_uri": "https://localhost:8080/"
        },
        "id": "NwWp560YoFEc",
        "outputId": "5e8348d1-9a3b-4704-c541-fb3d240f89f4"
      },
      "execution_count": null,
      "outputs": [
        {
          "output_type": "stream",
          "name": "stdout",
          "text": [
            "[  1.01433211 -21.55792498] 116.0502107827827\n"
          ]
        }
      ]
    },
    {
      "cell_type": "markdown",
      "source": [
        "# 다항식\n",
        "***무게 = 1.01   *    길이² -    21.6     *   길이  + 116.05***"
      ],
      "metadata": {
        "id": "Xrrn6O8Coo17"
      }
    },
    {
      "cell_type": "code",
      "source": [
        "#구간별 직선을 그리기 위해 15에서 50까지 정수 배열 생성\n",
        "point = np.arange(15,51)\n",
        "\n",
        "\n",
        "#train set의 산점도\n",
        "plt.scatter(train_input, train_target)\n",
        "\n",
        "\n",
        "# 15에서 50까지 2차 방정식 그래프\n",
        "plt.plot(point,1.01*point**2 - 21.6*point + 116.05, color = 'red')\n",
        "\n",
        "# 50cm 농어 데이터\n",
        "plt.scatter(50, 1574, marker='^')\n",
        "plt.xlabel('length')\n",
        "plt.ylabel('weight')\n",
        "plt.show()"
      ],
      "metadata": {
        "colab": {
          "base_uri": "https://localhost:8080/",
          "height": 449
        },
        "id": "BV9RAjR2oMsT",
        "outputId": "da8d0de8-5ca8-4e3f-8ef4-38b46154bb73"
      },
      "execution_count": null,
      "outputs": [
        {
          "output_type": "display_data",
          "data": {
            "text/plain": [
              "<Figure size 640x480 with 1 Axes>"
            ],
            "image/png": "[encoded data removed]"
          },
          "metadata": {}
        }
      ]
    },
    {
      "cell_type": "code",
      "source": [
        "print(lr.score(train_poly,train_target))\n",
        "print(lr.score(test_poly, test_target))"
      ],
      "metadata": {
        "colab": {
          "base_uri": "https://localhost:8080/"
        },
        "id": "mrAyfBXMpMZO",
        "outputId": "2dd32faf-af25-4cd1-b2d2-d362db23d640"
      },
      "execution_count": null,
      "outputs": [
        {
          "output_type": "stream",
          "name": "stdout",
          "text": [
            "0.9706807451768623\n",
            "0.9775935108325122\n"
          ]
        }
      ]
    },
    {
      "cell_type": "markdown",
      "source": [
        "*   train set와 test set에 대한 점수가 크게 높아짐\n",
        "*   여전히 test set의 점수가 조금 더 높음 ---> 과소적합이 남아 있음 ---> 더 복잡한 모델이 필요!!!!"
      ],
      "metadata": {
        "id": "SHC492J3qa-Q"
      }
    }
  ]
}